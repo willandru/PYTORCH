{
 "cells": [
  {
   "cell_type": "markdown",
   "id": "e8ff478a",
   "metadata": {},
   "source": [
    "# PYTORCH Y NUMPY"
   ]
  },
  {
   "cell_type": "code",
   "execution_count": 1,
   "id": "9c090378",
   "metadata": {},
   "outputs": [],
   "source": [
    "import numpy as np\n",
    "import torch"
   ]
  },
  {
   "cell_type": "code",
   "execution_count": 3,
   "id": "eb7af9cf",
   "metadata": {},
   "outputs": [
    {
     "data": {
      "text/plain": [
       "array([ 9, 11])"
      ]
     },
     "execution_count": 3,
     "metadata": {},
     "output_type": "execute_result"
    }
   ],
   "source": [
    "# ARRAYS AND SUM OF ARRAYS IN NMPY\n",
    "a= np.array([1, 2])\n",
    "b= np.array([8,9])\n",
    "c= a+b\n",
    "c"
   ]
  },
  {
   "cell_type": "code",
   "execution_count": 4,
   "id": "05d55e8f",
   "metadata": {},
   "outputs": [
    {
     "data": {
      "text/plain": [
       "tensor([ 9, 11])"
      ]
     },
     "execution_count": 4,
     "metadata": {},
     "output_type": "execute_result"
    }
   ],
   "source": [
    "#TENSORS AND SUM OF TENSORS IN PYTORCH\n",
    "a= torch.tensor([1, 2])\n",
    "b= torch.tensor([8,9])\n",
    "c= a+b\n",
    "c"
   ]
  },
  {
   "cell_type": "code",
   "execution_count": 9,
   "id": "c42d62d4",
   "metadata": {},
   "outputs": [
    {
     "data": {
      "text/plain": [
       "tensor([1, 2])"
      ]
     },
     "execution_count": 9,
     "metadata": {},
     "output_type": "execute_result"
    }
   ],
   "source": [
    "#FROM NUMPY TO TENSOR\n",
    "a= np.array([1, 2])\n",
    "torch.from_numpy(a)"
   ]
  },
  {
   "cell_type": "code",
   "execution_count": 10,
   "id": "72ea62ac",
   "metadata": {},
   "outputs": [
    {
     "data": {
      "text/plain": [
       "array([1, 2])"
      ]
     },
     "execution_count": 10,
     "metadata": {},
     "output_type": "execute_result"
    }
   ],
   "source": [
    "#FROM TORCH TO NUMPY\n",
    "a= torch.tensor([1,2])\n",
    "a.numpy()"
   ]
  },
  {
   "cell_type": "markdown",
   "id": "956af0a7",
   "metadata": {},
   "source": [
    "## Tensors: n-dimensional numbers (includeing booleans) containers."
   ]
  },
  {
   "cell_type": "code",
   "execution_count": 11,
   "id": "78b1e3bf",
   "metadata": {},
   "outputs": [
    {
     "data": {
      "text/plain": [
       "tensor([[1, 2],\n",
       "        [2, 1]])"
      ]
     },
     "execution_count": 11,
     "metadata": {},
     "output_type": "execute_result"
    }
   ],
   "source": [
    "torch.tensor([[1,2],[2,1]])"
   ]
  },
  {
   "cell_type": "code",
   "execution_count": 12,
   "id": "80090b0a",
   "metadata": {},
   "outputs": [
    {
     "data": {
      "text/plain": [
       "tensor([[1., 2.],\n",
       "        [2., 1.]])"
      ]
     },
     "execution_count": 12,
     "metadata": {},
     "output_type": "execute_result"
    }
   ],
   "source": [
    "torch.FloatTensor([[1,2],[2,1]])"
   ]
  },
  {
   "cell_type": "code",
   "execution_count": 13,
   "id": "6ae8dc49",
   "metadata": {},
   "outputs": [
    {
     "data": {
      "text/plain": [
       "tensor([[True, True],\n",
       "        [True, True]])"
      ]
     },
     "execution_count": 13,
     "metadata": {},
     "output_type": "execute_result"
    }
   ],
   "source": [
    "torch.tensor([[1,2],[2,1]], dtype=torch.bool)"
   ]
  },
  {
   "cell_type": "code",
   "execution_count": 14,
   "id": "b79024a0",
   "metadata": {},
   "outputs": [
    {
     "data": {
      "text/plain": [
       "tensor([[0.1788, 0.3867],\n",
       "        [0.6389, 0.9938],\n",
       "        [0.4644, 0.5432]])"
      ]
     },
     "execution_count": 14,
     "metadata": {},
     "output_type": "execute_result"
    }
   ],
   "source": [
    "torch.rand(3,2)"
   ]
  },
  {
   "cell_type": "code",
   "execution_count": 15,
   "id": "e48b67ee",
   "metadata": {},
   "outputs": [
    {
     "data": {
      "text/plain": [
       "tensor([[1., 1.],\n",
       "        [1., 1.],\n",
       "        [1., 1.]])"
      ]
     },
     "execution_count": 15,
     "metadata": {},
     "output_type": "execute_result"
    }
   ],
   "source": [
    "torch.ones(3,2)"
   ]
  },
  {
   "cell_type": "markdown",
   "id": "aeeb3ee6",
   "metadata": {},
   "source": [
    "- PYTORCH has a variety of usefull applications:"
   ]
  },
  {
   "cell_type": "code",
   "execution_count": 16,
   "id": "64730382",
   "metadata": {},
   "outputs": [
    {
     "data": {
      "text/plain": [
       "tensor(8)"
      ]
     },
     "execution_count": 16,
     "metadata": {},
     "output_type": "execute_result"
    }
   ],
   "source": [
    "#SUMA\n",
    "x= torch.tensor([[2,3], [1,2]])\n",
    "\n",
    "x.sum()"
   ]
  },
  {
   "cell_type": "code",
   "execution_count": 17,
   "id": "fa737fcf",
   "metadata": {},
   "outputs": [
    {
     "data": {
      "text/plain": [
       "tensor([[2, 1],\n",
       "        [3, 2]])"
      ]
     },
     "execution_count": 17,
     "metadata": {},
     "output_type": "execute_result"
    }
   ],
   "source": [
    "#TRANSPOSE \n",
    "x.t()"
   ]
  },
  {
   "cell_type": "code",
   "execution_count": 18,
   "id": "a5133c17",
   "metadata": {},
   "outputs": [
    {
     "data": {
      "text/plain": [
       "torch.Size([2, 2])"
      ]
     },
     "execution_count": 18,
     "metadata": {},
     "output_type": "execute_result"
    }
   ],
   "source": [
    "#GET SHAPE OF EACH DIMENSION\n",
    "x.size()"
   ]
  },
  {
   "cell_type": "code",
   "execution_count": 20,
   "id": "a92d73b9",
   "metadata": {},
   "outputs": [
    {
     "data": {
      "text/plain": [
       "tensor([[4, 5],\n",
       "        [6, 3]])"
      ]
     },
     "execution_count": 20,
     "metadata": {},
     "output_type": "execute_result"
    }
   ],
   "source": [
    "#PERFORMING NEW OPERATIONS CRETES NEW TENSOR\n",
    "y= torch.tensor([[2,2],[5,1]])\n",
    "z= x.add(y)\n",
    "z"
   ]
  },
  {
   "cell_type": "code",
   "execution_count": 21,
   "id": "df31ba7a",
   "metadata": {},
   "outputs": [
    {
     "data": {
      "text/plain": [
       "tensor([[4, 5],\n",
       "        [6, 3]])"
      ]
     },
     "execution_count": 21,
     "metadata": {},
     "output_type": "execute_result"
    }
   ],
   "source": [
    "#ALMOST ALL OPERATIONS HAVE AN IN-PLACE FUNTION FOLLOWED BY UNDER SCORE _\n",
    "x.add_(y)\n",
    "x"
   ]
  },
  {
   "cell_type": "markdown",
   "id": "8e3821ff",
   "metadata": {},
   "source": [
    "## runing on GPU\n",
    "- You can run operations on the GPU\n",
    "- Autograd: automatic differientiation\n",
    "- A set of tools to build Neural Networks\n",
    "- Inludes several packages for working with text or images"
   ]
  },
  {
   "cell_type": "code",
   "execution_count": 23,
   "id": "64d63206",
   "metadata": {},
   "outputs": [
    {
     "data": {
      "text/plain": [
       "device(type='cuda')"
      ]
     },
     "execution_count": 23,
     "metadata": {},
     "output_type": "execute_result"
    }
   ],
   "source": [
    "device = torch.device(\"cuda\") if torch.cuda.is_available() else torch.device(\"cpu\")\n",
    "device"
   ]
  },
  {
   "cell_type": "code",
   "execution_count": 25,
   "id": "8f3807ee",
   "metadata": {},
   "outputs": [
    {
     "data": {
      "text/plain": [
       "tensor([[2, 3],\n",
       "        [1, 2]], device='cuda:0')"
      ]
     },
     "execution_count": 25,
     "metadata": {},
     "output_type": "execute_result"
    }
   ],
   "source": [
    "#PUT THE TENSOR ON THE GPU\n",
    "x= torch.tensor([[2,3], [1,2]])\n",
    "x=x.to(device)\n",
    "x"
   ]
  },
  {
   "cell_type": "code",
   "execution_count": 26,
   "id": "5ecef783",
   "metadata": {},
   "outputs": [],
   "source": [
    "# MAKE OPERATIONS WITH TENSORS IN THE GPU\n",
    "y= torch.tensor([[2,2],[5,1]])\n",
    "y=y.to(device)\n",
    "\n",
    "z= x.add(y)"
   ]
  },
  {
   "cell_type": "markdown",
   "id": "d5827e7e",
   "metadata": {},
   "source": [
    "- Doing operations betwen CPU and GPU is not allowed \n",
    "- Size mismatch occurs often and is easy to fix: After each operation print the size¡\n",
    "- Runing out of GPU memory "
   ]
  }
 ],
 "metadata": {
  "kernelspec": {
   "display_name": "Python 3 (ipykernel)",
   "language": "python",
   "name": "python3"
  },
  "language_info": {
   "codemirror_mode": {
    "name": "ipython",
    "version": 3
   },
   "file_extension": ".py",
   "mimetype": "text/x-python",
   "name": "python",
   "nbconvert_exporter": "python",
   "pygments_lexer": "ipython3",
   "version": "3.9.12"
  }
 },
 "nbformat": 4,
 "nbformat_minor": 5
}
