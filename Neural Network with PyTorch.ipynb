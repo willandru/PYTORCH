{
 "cells": [
  {
   "cell_type": "code",
   "execution_count": 1,
   "id": "a200a0df",
   "metadata": {},
   "outputs": [],
   "source": [
    "import torch\n",
    "\n",
    "import os\n",
    "import numpy as np\n",
    "import pandas as pd\n",
    "from tqdm import tqdm\n",
    "import seaborn as sns\n",
    "from pylab import rcParams\n",
    "import matplotlib.pyplot as plt\n",
    "from matplotlib import rc\n",
    "from sklearn.model_selection import train_test_split\n",
    "from sklearn.metrics import confusion_matrix, classification_report\n",
    "\n",
    "from torch import nn, optim\n",
    "\n",
    "import torch.nn.functional as F\n",
    "\n"
   ]
  },
  {
   "cell_type": "code",
   "execution_count": 2,
   "id": "e65cf144",
   "metadata": {},
   "outputs": [],
   "source": [
    "DF = pd.read_csv('weatherAUS.csv')"
   ]
  },
  {
   "cell_type": "code",
   "execution_count": 3,
   "id": "90fb8d91",
   "metadata": {},
   "outputs": [
    {
     "name": "stdout",
     "output_type": "stream",
     "text": [
      "<class 'pandas.core.frame.DataFrame'>\n",
      "RangeIndex: 145460 entries, 0 to 145459\n",
      "Data columns (total 23 columns):\n",
      " #   Column         Non-Null Count   Dtype  \n",
      "---  ------         --------------   -----  \n",
      " 0   Date           145460 non-null  object \n",
      " 1   Location       145460 non-null  object \n",
      " 2   MinTemp        143975 non-null  float64\n",
      " 3   MaxTemp        144199 non-null  float64\n",
      " 4   Rainfall       142199 non-null  float64\n",
      " 5   Evaporation    82670 non-null   float64\n",
      " 6   Sunshine       75625 non-null   float64\n",
      " 7   WindGustDir    135134 non-null  object \n",
      " 8   WindGustSpeed  135197 non-null  float64\n",
      " 9   WindDir9am     134894 non-null  object \n",
      " 10  WindDir3pm     141232 non-null  object \n",
      " 11  WindSpeed9am   143693 non-null  float64\n",
      " 12  WindSpeed3pm   142398 non-null  float64\n",
      " 13  Humidity9am    142806 non-null  float64\n",
      " 14  Humidity3pm    140953 non-null  float64\n",
      " 15  Pressure9am    130395 non-null  float64\n",
      " 16  Pressure3pm    130432 non-null  float64\n",
      " 17  Cloud9am       89572 non-null   float64\n",
      " 18  Cloud3pm       86102 non-null   float64\n",
      " 19  Temp9am        143693 non-null  float64\n",
      " 20  Temp3pm        141851 non-null  float64\n",
      " 21  RainToday      142199 non-null  object \n",
      " 22  RainTomorrow   142193 non-null  object \n",
      "dtypes: float64(16), object(7)\n",
      "memory usage: 25.5+ MB\n"
     ]
    }
   ],
   "source": [
    "DF.info()"
   ]
  },
  {
   "cell_type": "code",
   "execution_count": 4,
   "id": "e8588d35",
   "metadata": {},
   "outputs": [],
   "source": [
    "cols = ['Rainfall','Humidity3pm', 'Pressure9am','RainToday', 'RainTomorrow']\n",
    "df=DF[cols]"
   ]
  },
  {
   "cell_type": "code",
   "execution_count": 5,
   "id": "47b25f3b",
   "metadata": {},
   "outputs": [
    {
     "name": "stderr",
     "output_type": "stream",
     "text": [
      "/tmp/ipykernel_9765/225823039.py:2: SettingWithCopyWarning: \n",
      "A value is trying to be set on a copy of a slice from a DataFrame\n",
      "\n",
      "See the caveats in the documentation: https://pandas.pydata.org/pandas-docs/stable/user_guide/indexing.html#returning-a-view-versus-a-copy\n",
      "  df['RainToday'].replace({'No':0, 'Yes':1}, inplace=True)\n",
      "/tmp/ipykernel_9765/225823039.py:3: SettingWithCopyWarning: \n",
      "A value is trying to be set on a copy of a slice from a DataFrame\n",
      "\n",
      "See the caveats in the documentation: https://pandas.pydata.org/pandas-docs/stable/user_guide/indexing.html#returning-a-view-versus-a-copy\n",
      "  df['RainTomorrow'].replace({'No':0, 'Yes':1}, inplace=True)\n"
     ]
    }
   ],
   "source": [
    "# WE WILL CONVERT 'YES' and 'NO' to 1 AND 0\n",
    "df['RainToday'].replace({'No':0, 'Yes':1}, inplace=True)\n",
    "df['RainTomorrow'].replace({'No':0, 'Yes':1}, inplace=True)"
   ]
  },
  {
   "cell_type": "code",
   "execution_count": 6,
   "id": "f11b1a66",
   "metadata": {},
   "outputs": [
    {
     "name": "stdout",
     "output_type": "stream",
     "text": [
      "<class 'pandas.core.frame.DataFrame'>\n",
      "Int64Index: 124689 entries, 0 to 145458\n",
      "Data columns (total 5 columns):\n",
      " #   Column        Non-Null Count   Dtype  \n",
      "---  ------        --------------   -----  \n",
      " 0   Rainfall      124689 non-null  float64\n",
      " 1   Humidity3pm   124689 non-null  float64\n",
      " 2   Pressure9am   124689 non-null  float64\n",
      " 3   RainToday     124689 non-null  float64\n",
      " 4   RainTomorrow  124689 non-null  float64\n",
      "dtypes: float64(5)\n",
      "memory usage: 5.7 MB\n"
     ]
    }
   ],
   "source": [
    "#DROP ROWS WITH MISSING VALUES\n",
    "df= df.dropna(how='any')\n",
    "df.info()"
   ]
  },
  {
   "cell_type": "code",
   "execution_count": 7,
   "id": "c994dc37",
   "metadata": {},
   "outputs": [
    {
     "name": "stderr",
     "output_type": "stream",
     "text": [
      "/home/kaliw/GITHUB/PYTORCH/lib/python3.9/site-packages/seaborn/_decorators.py:36: FutureWarning: Pass the following variable as a keyword arg: x. From version 0.12, the only valid positional argument will be `data`, and passing other arguments without an explicit keyword will result in an error or misinterpretation.\n",
      "  warnings.warn(\n"
     ]
    },
    {
     "data": {
      "text/plain": [
       "<AxesSubplot:xlabel='RainTomorrow', ylabel='count'>"
      ]
     },
     "execution_count": 7,
     "metadata": {},
     "output_type": "execute_result"
    },
    {
     "data": {
      "image/png": "[encoded data removed]",
      "text/plain": [
       "<Figure size 432x288 with 1 Axes>"
      ]
     },
     "metadata": {
      "needs_background": "light"
     },
     "output_type": "display_data"
    }
   ],
   "source": [
    "sns.countplot(df.RainTomorrow)"
   ]
  },
  {
   "cell_type": "code",
   "execution_count": 8,
   "id": "687d38b4",
   "metadata": {},
   "outputs": [
    {
     "data": {
      "text/plain": [
       "0.0    0.778762\n",
       "1.0    0.221238\n",
       "Name: RainTomorrow, dtype: float64"
      ]
     },
     "execution_count": 8,
     "metadata": {},
     "output_type": "execute_result"
    }
   ],
   "source": [
    "df.RainTomorrow.value_counts()/df.shape[0]"
   ]
  },
  {
   "cell_type": "code",
   "execution_count": 9,
   "id": "4b570bf2",
   "metadata": {},
   "outputs": [],
   "source": [
    "\n",
    "from sklearn.model_selection import train_test_split\n",
    "X= df[['Rainfall', 'Humidity3pm', 'RainToday', 'Pressure9am']]\n",
    "y= df[['RainTomorrow']]\n",
    "\n",
    "x_train, X_test, y_train, y_test = train_test_split(X, y, test_size=0.2, random_state=42)"
   ]
  },
  {
   "cell_type": "code",
   "execution_count": 10,
   "id": "3600af7e",
   "metadata": {},
   "outputs": [],
   "source": [
    "#CONVERT ALL OF IT TO TENSORS \n",
    "X_train = torch.from_numpy(x_train.to_numpy()).float()\n",
    "y_train = torch.squeeze(torch.from_numpy(y_train.to_numpy()).float())\n",
    "X_test = torch.from_numpy(X_test.to_numpy()).float()\n",
    "y_test = torch.squeeze(torch.from_numpy(y_test.to_numpy()).float())"
   ]
  },
  {
   "cell_type": "code",
   "execution_count": 11,
   "id": "1fd793bb",
   "metadata": {},
   "outputs": [
    {
     "name": "stdout",
     "output_type": "stream",
     "text": [
      "torch.Size([99751, 4]) torch.Size([99751])\n",
      "torch.Size([24938, 4]) torch.Size([24938])\n"
     ]
    }
   ],
   "source": [
    "print(X_train.shape, y_train.shape)\n",
    "print(X_test.shape, y_test.shape)"
   ]
  },
  {
   "cell_type": "markdown",
   "id": "4342a86b",
   "metadata": {},
   "source": [
    "## CREATE A NEURAL NETWORK"
   ]
  },
  {
   "cell_type": "code",
   "execution_count": 12,
   "id": "3233c956",
   "metadata": {},
   "outputs": [],
   "source": [
    "class Net(nn.Module):\n",
    "    \n",
    "    def __init__(self, n_features):\n",
    "        super(Net, self).__init__()\n",
    "        self.fc1 = nn.Linear(n_features, 5)\n",
    "        self.fc2 = nn.Linear(5, 3)\n",
    "        self.fc3 = nn.Linear(3,1)\n",
    "        \n",
    "    def forward(self, x):\n",
    "        x= F.relu(self.fc1(x))\n",
    "        x= F.relu(self.fc2(x))\n",
    "        return torch.sigmoid(self.fc3(x))\n",
    "    \n",
    "net =Net(X_train.shape[1])\n"
   ]
  },
  {
   "cell_type": "markdown",
   "id": "e1d4cf91",
   "metadata": {},
   "source": [
    "## Training the MODEL"
   ]
  },
  {
   "cell_type": "code",
   "execution_count": 13,
   "id": "e821483c",
   "metadata": {},
   "outputs": [],
   "source": [
    "criterion = nn.BCELoss() ## Measures the firrences between 2 binary vectors: The predictions of our model\n",
    "# and the real values. It expects values to be outputed by the sigmoid function."
   ]
  },
  {
   "cell_type": "markdown",
   "id": "f5228414",
   "metadata": {},
   "source": [
    "### OPTIMIZING"
   ]
  },
  {
   "cell_type": "code",
   "execution_count": 14,
   "id": "3b474dbc",
   "metadata": {},
   "outputs": [],
   "source": [
    "optimizer = optim.Adam(net.parameters(), lr=0.001)"
   ]
  },
  {
   "cell_type": "markdown",
   "id": "54bd2bce",
   "metadata": {},
   "source": [
    "### DOING IT ON THE GPU!"
   ]
  },
  {
   "cell_type": "code",
   "execution_count": 15,
   "id": "88527c2d",
   "metadata": {},
   "outputs": [
    {
     "data": {
      "text/plain": [
       "device(type='cuda')"
      ]
     },
     "execution_count": 15,
     "metadata": {},
     "output_type": "execute_result"
    }
   ],
   "source": [
    "device = torch.device(\"cuda\") if torch.cuda.is_available() else torch.device(\"cpu\")\n",
    "device"
   ]
  },
  {
   "cell_type": "code",
   "execution_count": 16,
   "id": "e36779ff",
   "metadata": {},
   "outputs": [],
   "source": [
    "X_train = X_train.to(device)\n",
    "y_train = y_train.to(device)\n",
    "X_test = X_test.to(device)\n",
    "y_test = y_test.to(device)\n",
    "\n",
    "net = net.to(device)\n",
    "criterion= criterion.to(device)"
   ]
  },
  {
   "cell_type": "markdown",
   "id": "021acb05",
   "metadata": {},
   "source": [
    "## FINDING GOOD PARAMETERS\n",
    "### ACURACY:"
   ]
  },
  {
   "cell_type": "code",
   "execution_count": 17,
   "id": "a682adca",
   "metadata": {},
   "outputs": [],
   "source": [
    "def calculate_accuracy(y_true, y_pred):\n",
    "    predicted = y_pred.ge(.5).view(-1)\n",
    "    return (y_true == predicted).sum().float() / len(y_true)"
   ]
  },
  {
   "cell_type": "markdown",
   "id": "ad4b974b",
   "metadata": {},
   "source": [
    "### TRAINING THE MODEL:"
   ]
  },
  {
   "cell_type": "code",
   "execution_count": 18,
   "id": "983313d6",
   "metadata": {},
   "outputs": [
    {
     "name": "stdout",
     "output_type": "stream",
     "text": [
      "epoch 0 \n",
      "            Train Set - loss : 2.952, accuracy : 0.779\n",
      "            Tet Set - loss : 2.949, accuracy : 0.778\n",
      "epoch 100 \n",
      "            Train Set - loss : 2.641, accuracy : 0.779\n",
      "            Tet Set - loss : 2.638, accuracy : 0.778\n",
      "epoch 200 \n",
      "            Train Set - loss : 2.321, accuracy : 0.779\n",
      "            Tet Set - loss : 2.318, accuracy : 0.778\n",
      "epoch 300 \n",
      "            Train Set - loss : 1.997, accuracy : 0.779\n",
      "            Tet Set - loss : 1.993, accuracy : 0.778\n",
      "epoch 400 \n",
      "            Train Set - loss : 1.671, accuracy : 0.779\n",
      "            Tet Set - loss : 1.667, accuracy : 0.778\n",
      "epoch 500 \n",
      "            Train Set - loss : 1.348, accuracy : 0.779\n",
      "            Tet Set - loss : 1.343, accuracy : 0.778\n",
      "epoch 600 \n",
      "            Train Set - loss : 1.033, accuracy : 0.78\n",
      "            Tet Set - loss : 1.028, accuracy : 0.779\n",
      "epoch 700 \n",
      "            Train Set - loss : 0.747, accuracy : 0.792\n",
      "            Tet Set - loss : 0.743, accuracy : 0.793\n",
      "epoch 800 \n",
      "            Train Set - loss : 0.533, accuracy : 0.826\n",
      "            Tet Set - loss : 0.531, accuracy : 0.827\n",
      "epoch 900 \n",
      "            Train Set - loss : 0.447, accuracy : 0.822\n",
      "            Tet Set - loss : 0.448, accuracy : 0.825\n"
     ]
    }
   ],
   "source": [
    "def round_tensor(t, decimal_places = 3):\n",
    "    return round(t.item(), decimal_places)\n",
    "\n",
    "for epoch in range(1000):\n",
    "    \n",
    "    y_pred = net(X_train)\n",
    "    \n",
    "    y_pred = torch.squeeze(y_pred)\n",
    "    train_loss = criterion(y_pred, y_train)\n",
    "    \n",
    "    if epoch % 100 == 0:\n",
    "        \n",
    "        train_acc= calculate_accuracy(y_train, y_pred)\n",
    "        \n",
    "        y_test_pred = net(X_test)\n",
    "        y_test_pred = torch.squeeze(y_test_pred)\n",
    "        \n",
    "        test_loss = criterion(y_test_pred, y_test)\n",
    "        test_acc = calculate_accuracy(y_test, y_test_pred)\n",
    "        \n",
    "        print(f'''epoch {epoch} \n",
    "            Train Set - loss : {round_tensor(train_loss)}, accuracy : {round_tensor(train_acc)}\n",
    "            Tet Set - loss : {round_tensor(test_loss)}, accuracy : {round_tensor(test_acc)}''')\n",
    "        \n",
    "        optimizer.zero_grad()\n",
    "        \n",
    "        train_loss.backward()\n",
    "        \n",
    "        optimizer.step()"
   ]
  },
  {
   "cell_type": "markdown",
   "id": "c2077a4f",
   "metadata": {},
   "source": [
    "### SAVING THE MODEL"
   ]
  },
  {
   "cell_type": "code",
   "execution_count": 19,
   "id": "c6ee8810",
   "metadata": {},
   "outputs": [],
   "source": [
    "MODEL_PATH = 'model.pth'\n",
    "torch.save(net, MODEL_PATH)"
   ]
  },
  {
   "cell_type": "markdown",
   "id": "346fd087",
   "metadata": {},
   "source": [
    "### RESTORING THE MODEL"
   ]
  },
  {
   "cell_type": "code",
   "execution_count": 20,
   "id": "b589d534",
   "metadata": {},
   "outputs": [],
   "source": [
    "net = torch.load(MODEL_PATH)"
   ]
  },
  {
   "cell_type": "markdown",
   "id": "5ec79f8d",
   "metadata": {},
   "source": [
    "# EVALUATING THE MODEL'S ERROS"
   ]
  },
  {
   "cell_type": "code",
   "execution_count": 21,
   "id": "da683227",
   "metadata": {},
   "outputs": [
    {
     "name": "stdout",
     "output_type": "stream",
     "text": [
      "              precision    recall  f1-score   support\n",
      "\n",
      "     No rain       0.90      0.78      0.83     19413\n",
      "     Raining       0.47      0.68      0.56      5525\n",
      "\n",
      "    accuracy                           0.76     24938\n",
      "   macro avg       0.68      0.73      0.69     24938\n",
      "weighted avg       0.80      0.76      0.77     24938\n",
      "\n"
     ]
    }
   ],
   "source": [
    "# Asses the preccsion and recall for each class\n",
    "\n",
    "classes = ['No rain', 'Raining']\n",
    "\n",
    "y_pred= net(X_test)\n",
    "\n",
    "y_pred= y_pred.ge(.5).view(-1).cpu()\n",
    "y_test= y_test.cpu()\n",
    "\n",
    "print(classification_report(y_test, y_pred, target_names=classes))"
   ]
  },
  {
   "cell_type": "code",
   "execution_count": 22,
   "id": "ace49955",
   "metadata": {},
   "outputs": [
    {
     "data": {
      "image/png": "[encoded data removed]",
      "text/plain": [
       "<Figure size 432x288 with 2 Axes>"
      ]
     },
     "metadata": {
      "needs_background": "light"
     },
     "output_type": "display_data"
    }
   ],
   "source": [
    "cm = confusion_matrix(y_test, y_pred)\n",
    "\n",
    "df_cm= pd.DataFrame(cm, index=classes, columns=classes)\n",
    "\n",
    "hmap= sns.heatmap(df_cm, annot=True, fmt=\"d\")\n",
    "hmap.yaxis.set_ticklabels(hmap.yaxis.get_ticklabels(), rotation=0, ha='right')\n",
    "hmap.xaxis.set_ticklabels(hmap.xaxis.get_ticklabels(), rotation=30, ha='right')\n",
    "plt.ylabel('True label')\n",
    "plt.xlabel('Predicted label');"
   ]
  },
  {
   "cell_type": "code",
   "execution_count": null,
   "id": "3585eaeb",
   "metadata": {},
   "outputs": [],
   "source": []
  },
  {
   "cell_type": "code",
   "execution_count": null,
   "id": "e0643ce0",
   "metadata": {},
   "outputs": [],
   "source": []
  },
  {
   "cell_type": "code",
   "execution_count": null,
   "id": "d5b127d5",
   "metadata": {},
   "outputs": [],
   "source": []
  },
  {
   "cell_type": "code",
   "execution_count": null,
   "id": "f3485fa0",
   "metadata": {},
   "outputs": [],
   "source": []
  },
  {
   "cell_type": "code",
   "execution_count": null,
   "id": "5abd2857",
   "metadata": {},
   "outputs": [],
   "source": []
  }
 ],
 "metadata": {
  "kernelspec": {
   "display_name": "Python 3 (ipykernel)",
   "language": "python",
   "name": "python3"
  },
  "language_info": {
   "codemirror_mode": {
    "name": "ipython",
    "version": 3
   },
   "file_extension": ".py",
   "mimetype": "text/x-python",
   "name": "python",
   "nbconvert_exporter": "python",
   "pygments_lexer": "ipython3",
   "version": "3.9.12"
  }
 },
 "nbformat": 4,
 "nbformat_minor": 5
}
